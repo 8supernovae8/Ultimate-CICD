{
 "cells": [
  {
   "cell_type": "markdown",
   "metadata": {},
   "source": [
    "# Installing On Ubuntu?"
   ]
  },
  {
   "cell_type": "markdown",
   "metadata": {},
   "source": [
    "Here are the step-by-step instructions to install Jenkins on Ubuntu:\n",
    "\n",
    "1. **Update your system:** Open a terminal and run the following command to make sure that all of your system's packages are up-to-date:\n",
    "\n"
   ]
  },
  {
   "cell_type": "code",
   "execution_count": null,
   "metadata": {
    "vscode": {
     "languageId": "bash"
    }
   },
   "outputs": [],
   "source": [
    "sudo apt update"
   ]
  },
  {
   "cell_type": "markdown",
   "metadata": {},
   "source": [
    "\n",
    "\n",
    "2. **Install Java Development Kit (JDK):** Jenkins is a Java application, so you'll need to have Java installed. You can install OpenJDK 11 using the following command:\n",
    "\n"
   ]
  },
  {
   "cell_type": "code",
   "execution_count": null,
   "metadata": {
    "vscode": {
     "languageId": "bash"
    }
   },
   "outputs": [],
   "source": [
    "sudo apt install openjdk-11-jdk"
   ]
  },
  {
   "cell_type": "markdown",
   "metadata": {},
   "source": [
    "\n",
    "\n",
    "3. **Add the Jenkins Debian repository:** Import the GPG keys of the Jenkins repository using the following `wget` command:\n",
    "\n"
   ]
  },
  {
   "cell_type": "code",
   "execution_count": null,
   "metadata": {
    "vscode": {
     "languageId": "bash"
    }
   },
   "outputs": [],
   "source": [
    "wget -q -O - https://pkg.jenkins.io/debian/jenkins.io.key | sudo apt-key add -"
   ]
  },
  {
   "cell_type": "markdown",
   "metadata": {},
   "source": [
    "\n",
    "\n",
    "Then, add the Jenkins repository to the system with:\n",
    "\n"
   ]
  },
  {
   "cell_type": "code",
   "execution_count": null,
   "metadata": {
    "vscode": {
     "languageId": "bash"
    }
   },
   "outputs": [],
   "source": [
    "sudo sh -c 'echo deb http://pkg.jenkins.io/debian-stable binary/ > /etc/apt/sources.list.d/jenkins.list'"
   ]
  },
  {
   "cell_type": "markdown",
   "metadata": {},
   "source": [
    "\n",
    "\n",
    "4. **Install Jenkins:** First, update the apt package list to include the new Jenkins repository:\n",
    "\n"
   ]
  },
  {
   "cell_type": "code",
   "execution_count": null,
   "metadata": {
    "vscode": {
     "languageId": "bash"
    }
   },
   "outputs": [],
   "source": [
    "sudo apt update"
   ]
  },
  {
   "cell_type": "markdown",
   "metadata": {},
   "source": [
    "\n",
    "\n",
    "Then, install Jenkins by running:\n",
    "\n"
   ]
  },
  {
   "cell_type": "code",
   "execution_count": null,
   "metadata": {
    "vscode": {
     "languageId": "bash"
    }
   },
   "outputs": [],
   "source": [
    "sudo apt install jenkins"
   ]
  },
  {
   "cell_type": "markdown",
   "metadata": {},
   "source": [
    "\n",
    "\n",
    "5. **Start and Enable Jenkins:** Once Jenkins is installed, start the Jenkins service and enable it to start on system boot with:\n",
    "\n"
   ]
  },
  {
   "cell_type": "code",
   "execution_count": null,
   "metadata": {
    "vscode": {
     "languageId": "bash"
    }
   },
   "outputs": [],
   "source": [
    "sudo systemctl start jenkins\n",
    "sudo systemctl enable jenkins"
   ]
  },
  {
   "cell_type": "markdown",
   "metadata": {},
   "source": [
    "\n",
    "\n",
    "6. **Open Jenkins in a Web Browser:** Jenkins should now be installed and running on your system. You can access the Jenkins web interface by navigating to `http://your_server_ip:8080` in your web browser.\n",
    "\n",
    "7. **Unlock Jenkins:** The first time you access the Jenkins interface, you will be asked to unlock it using an automatically-generated password. In your terminal window, type:\n",
    "\n"
   ]
  },
  {
   "cell_type": "code",
   "execution_count": null,
   "metadata": {
    "vscode": {
     "languageId": "bash"
    }
   },
   "outputs": [],
   "source": [
    "sudo cat /var/lib/jenkins/secrets/initialAdminPassword"
   ]
  },
  {
   "cell_type": "markdown",
   "metadata": {},
   "source": [
    "\n",
    "\n",
    "Copy the 32-character alphanumeric password from the terminal and paste it into the \"Administrator password\" field, then click \"Continue\".\n",
    "\n",
    "8. **Install suggested plugins:** After unlocking Jenkins, you will be prompted to customize Jenkins by installing plugins. We recommend clicking the \"Install suggested plugins\" option, which will immediately begin the installation process.\n",
    "\n",
    "9. **Create an Admin User:** Finally, you will be prompted to create your first admin user. Fill out the form to complete the setup.\n",
    "\n",
    "10. **Jenkins Setup Complete:** You should now have a fully functioning Jenkins server installed on your Ubuntu system."
   ]
  },
  {
   "cell_type": "markdown",
   "metadata": {},
   "source": [
    "# On Windows?"
   ]
  },
  {
   "cell_type": "markdown",
   "metadata": {},
   "source": [
    "Here are the step-by-step instructions to install Jenkins on Windows:\n",
    "\n",
    "1. **Download Jenkins:** Go to the Jenkins download page (https://www.jenkins.io/download/) and download the latest stable Jenkins version in the 'Generic Java package (.war)' format.\n",
    "\n",
    "2. **Install Java Development Kit (JDK):** Jenkins is a Java application, so you'll need to have Java installed. You can download the JDK from Oracle's website (https://www.oracle.com/java/technologies/javase-jdk11-downloads.html). After downloading, install the JDK.\n",
    "\n",
    "3. **Set JAVA_HOME:** Set the JAVA_HOME environment variable to point to the base directory location where Java is installed on your machine. You can do this via System Properties -> Environment Variables -> New System Variable.\n",
    "\n",
    "4. **Run Jenkins:** Open a command prompt and navigate to the directory where the Jenkins .war file is located. Run the following command:\n",
    "\n"
   ]
  },
  {
   "cell_type": "code",
   "execution_count": null,
   "metadata": {
    "vscode": {
     "languageId": "bash"
    }
   },
   "outputs": [],
   "source": [
    "java -jar jenkins.war"
   ]
  },
  {
   "cell_type": "markdown",
   "metadata": {},
   "source": [
    "\n",
    "\n",
    "5. **Access Jenkins:** Once Jenkins is up and running, open your web browser and go to `http://localhost:8080`. You should see the Jenkins dashboard.\n",
    "\n",
    "6. **Unlock Jenkins:** The first time you access the Jenkins interface, you will be asked to unlock it using an automatically-generated password. The command prompt where you started Jenkins will show the location of this password file. Open this file, copy the password, and paste it into the \"Administrator password\" field on the Jenkins dashboard, then click \"Continue\".\n",
    "\n",
    "7. **Install suggested plugins:** After unlocking Jenkins, you will be prompted to customize Jenkins by installing plugins. We recommend clicking the \"Install suggested plugins\" option, which will immediately begin the installation process.\n",
    "\n",
    "8. **Create an Admin User:** Finally, you will be prompted to create your first admin user. Fill out the form to complete the setup.\n",
    "\n",
    "9. **Jenkins Setup Complete:** You should now have a fully functioning Jenkins server installed on your Windows system."
   ]
  },
  {
   "cell_type": "markdown",
   "metadata": {},
   "source": [
    "# **Thank You!**"
   ]
  }
 ],
 "metadata": {
  "language_info": {
   "name": "python"
  }
 },
 "nbformat": 4,
 "nbformat_minor": 2
}
