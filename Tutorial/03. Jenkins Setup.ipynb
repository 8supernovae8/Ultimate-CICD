{
 "cells": [
  {
   "cell_type": "markdown",
   "metadata": {},
   "source": [
    "# GitHub Setup for Jenkins?"
   ]
  },
  {
   "cell_type": "markdown",
   "metadata": {},
   "source": [
    "To set up Jenkins with GitHub, you need to follow these steps:\n",
    "\n",
    "1. **Install the GitHub plugin in Jenkins:** Navigate to \"Manage Jenkins\" -> \"Manage Plugins\" -> \"Available\", search for \"GitHub plugin\", check the box next to it, and click \"Install without restart\".\n",
    "\n",
    "2. **Configure GitHub in Jenkins:** Navigate to \"Manage Jenkins\" -> \"Configure System\". In the GitHub section, click on \"Add GitHub Server\" -> \"GitHub Server\". Provide a name for the connection and the API URL (https://api.github.com for public GitHub). \n",
    "\n",
    "3. **Create GitHub Personal Access Token:** In GitHub, navigate to \"Settings\" -> \"Developer settings\" -> \"Personal access tokens\" -> \"Generate new token\". Select the necessary scopes (like `repo`, `admin:org`, `admin:public_key`, `admin:repo_hook`, `user`, `admin:org_hook`) for your Jenkins jobs.\n",
    "\n",
    "4. **Add GitHub Credentials in Jenkins:** Back in Jenkins, in the \"Credentials\" section, click on \"Add\" -> \"Jenkins\". Choose \"Kind\" as \"Secret text\". In the \"Secret\" field, paste the GitHub personal access token you created. Provide a meaningful ID and description.\n",
    "\n",
    "5. **Create a Jenkins Job:** Navigate to \"New Item\", provide a name, choose \"Freestyle project\" or \"Pipeline\", and click \"OK\". In the \"Source Code Management\" section, select \"Git\" and provide your GitHub repository URL. In the \"Credentials\" dropdown, select the GitHub credentials you added. Configure the rest of the job as per your requirements.\n",
    "\n",
    "6. **Set up Webhooks (Optional):** In your GitHub repository, navigate to \"Settings\" -> \"Webhooks\" -> \"Add webhook\". Provide your Jenkins server URL followed by `/github-webhook/` (for example, `http://your-jenkins-server/github-webhook/`). Select \"Content type\" as \"application/json\". Choose \"Just the push event\" or any other event you want Jenkins to react to. Click \"Add webhook\". This will trigger your Jenkins job whenever the specified event happens in your GitHub repository.\n",
    "\n",
    "Remember to save the changes after each configuration step. Now, Jenkins is set up to work with your GitHub repository."
   ]
  },
  {
   "cell_type": "markdown",
   "metadata": {},
   "source": [
    "# Maven Setup?"
   ]
  },
  {
   "cell_type": "markdown",
   "metadata": {},
   "source": [
    "Here's how you can set up Maven on your system:\n",
    "\n",
    "1. **Download Maven:** Go to the official Apache Maven download page (https://maven.apache.org/download.cgi) and download the latest version of Maven. Choose the binary zip archive.\n",
    "\n",
    "2. **Extract the Archive:** Extract the downloaded archive to a directory of your choice. For example, you might choose to place it in `C:\\Program Files\\Apache\\maven` on Windows or `/usr/local/apache-maven/` on Unix-based systems.\n",
    "\n",
    "3. **Set Environment Variables:** You need to set two environment variables: `M2_HOME` and `PATH`.\n",
    "\n",
    "   - `M2_HOME`: This should point to the directory where you extracted the Maven files. For example, `C:\\Program Files\\Apache\\maven` or `/usr/local/apache-maven/`.\n",
    "\n",
    "   - `PATH`: Add the bin directory of the extracted directory to the PATH environment variable. For example, `C:\\Program Files\\Apache\\maven\\bin` or `/usr/local/apache-maven/bin`.\n",
    "\n",
    "   On Windows, you can set these through the System Properties -> Environment Variables. On Unix-based systems, you can add these to the `.bashrc` or `.bash_profile` file.\n",
    "\n",
    "4. **Verify the Installation:** Open a new terminal and run the following command:\n",
    "\n"
   ]
  },
  {
   "cell_type": "code",
   "execution_count": null,
   "metadata": {
    "vscode": {
     "languageId": "bash"
    }
   },
   "outputs": [],
   "source": [
    "mvn -version"
   ]
  },
  {
   "cell_type": "markdown",
   "metadata": {},
   "source": [
    "\n",
    "\n",
    "If Maven is correctly installed, you should see output detailing the Maven version, the Java version, and the Java home directory.\n",
    "\n",
    "For Jenkins to use Maven, you need to configure it in Jenkins:\n",
    "\n",
    "1. **Install Maven Plugin:** Go to \"Manage Jenkins\" -> \"Manage Plugins\" -> \"Available\", search for \"Maven Integration plugin\", check the box next to it, and click \"Install without restart\".\n",
    "\n",
    "2. **Configure Maven in Jenkins:** Go to \"Manage Jenkins\" -> \"Global Tool Configuration\". In the \"Maven\" section, click \"Add Maven\". Provide a name for the Maven setup and the MAVEN_HOME path (the same path you set for M2_HOME). Click \"Apply\" and \"Save\".\n",
    "\n",
    "Now, you can use Maven in your Jenkins jobs by referring to the name you provided in the Maven configuration."
   ]
  },
  {
   "cell_type": "markdown",
   "metadata": {},
   "source": [
    "## Maven Setup For Ubuntu?"
   ]
  },
  {
   "cell_type": "markdown",
   "metadata": {},
   "source": [
    "To set up Maven for Jenkins in Ubuntu, you first need to install Maven on your Ubuntu system. Then, you configure it in Jenkins. Here are the steps:\n",
    "\n",
    "1. **Install Maven on Ubuntu:** You can use the command from your active selection to download Maven:\n",
    "\n"
   ]
  },
  {
   "cell_type": "code",
   "execution_count": null,
   "metadata": {
    "vscode": {
     "languageId": "bash"
    }
   },
   "outputs": [],
   "source": [
    "wget https://downloads.apache.org/maven/maven-3/3.8.1/binaries/apache-maven-3.8.1-bin.tar.gz"
   ]
  },
  {
   "cell_type": "markdown",
   "metadata": {},
   "source": [
    "\n",
    "\n",
    "Then, extract the downloaded archive to the `/opt` directory:\n",
    "\n"
   ]
  },
  {
   "cell_type": "code",
   "execution_count": null,
   "metadata": {
    "vscode": {
     "languageId": "bash"
    }
   },
   "outputs": [],
   "source": [
    "sudo tar xf apache-maven-3.8.1-bin.tar.gz -C /opt"
   ]
  },
  {
   "cell_type": "markdown",
   "metadata": {},
   "source": [
    "\n",
    "\n",
    "Set up the `M2_HOME` and `PATH` environment variables:\n",
    "\n"
   ]
  },
  {
   "cell_type": "code",
   "execution_count": null,
   "metadata": {
    "vscode": {
     "languageId": "bash"
    }
   },
   "outputs": [],
   "source": [
    "echo \"export M2_HOME=/opt/apache-maven-3.8.1\" | sudo tee -a /etc/profile\n",
    "echo \"export PATH=\\${M2_HOME}/bin:\\${PATH}\" | sudo tee -a /etc/profile\n",
    "source /etc/profile"
   ]
  },
  {
   "cell_type": "markdown",
   "metadata": {},
   "source": [
    "\n",
    "\n",
    "Verify that Maven has been installed correctly:\n",
    "\n"
   ]
  },
  {
   "cell_type": "code",
   "execution_count": null,
   "metadata": {
    "vscode": {
     "languageId": "bash"
    }
   },
   "outputs": [],
   "source": [
    "mvn -version"
   ]
  },
  {
   "cell_type": "markdown",
   "metadata": {},
   "source": [
    "\n",
    "\n",
    "2. **Configure Maven in Jenkins:** In Jenkins, navigate to \"Manage Jenkins\" -> \"Global Tool Configuration\". In the \"Maven installations\" section, click \"Add Maven\". Provide a name for the Maven setup and the MAVEN_HOME path (the same path you set for M2_HOME). Click \"Apply\" and \"Save\".\n",
    "\n",
    "Now, you can use Maven in your Jenkins jobs by referring to the name you provided in the Maven configuration."
   ]
  },
  {
   "cell_type": "markdown",
   "metadata": {},
   "source": [
    "## What is Maven?"
   ]
  },
  {
   "cell_type": "markdown",
   "metadata": {},
   "source": [
    "Maven is a powerful project management tool that is primarily used for Java projects. It provides a standardized, central piece of information that can be used to manage a project's build, reporting, and documentation.\n",
    "\n",
    "Key features of Maven include:\n",
    "\n",
    "1. **Simple project setup:** Maven makes it easy to start a new project because it follows a standard directory layout and a default build lifecycle.\n",
    "\n",
    "2. **Dependency management:** Maven automatically handles project dependencies. If your project depends on a certain library, Maven can download the required library from the central repository and store it in your local repository.\n",
    "\n",
    "3. **Consistent usage across all projects:** Because Maven uses a standard directory structure and a default build lifecycle, all projects built with Maven have a consistent feel to them. This makes it easier for developers to understand and work with different projects.\n",
    "\n",
    "4. **Plugins:** Maven has a rich set of plugins that can be used to interact with your project in various ways, such as compiling code, running tests, generating documentation, and packaging your project for distribution.\n",
    "\n",
    "5. **Extensibility:** If the standard plugins and lifecycles don't meet your needs, you can create your own plugins and custom build lifecycles.\n",
    "\n",
    "6. **Collaboration:** Maven can generate a website or a PDF including complete documentation, making collaboration with other developers easier.\n",
    "\n",
    "In summary, Maven simplifies and standardizes the project build process. It handles compilation, distribution, documentation, team collaboration, and other tasks seamlessly."
   ]
  },
  {
   "cell_type": "markdown",
   "metadata": {},
   "source": [
    "# Basic Configuration?"
   ]
  },
  {
   "cell_type": "markdown",
   "metadata": {},
   "source": [
    "After installing Jenkins, there are several basic configurations you should perform to ensure it's set up correctly:\n",
    "\n",
    "1. **Unlock Jenkins:** When you first access Jenkins (usually through `http://localhost:8080`), you'll be asked to unlock it using an automatically-generated password. You can find this password in a file in the Jenkins home directory (the path will be displayed on the screen).\n",
    "\n",
    "2. **Install Plugins:** Jenkins will prompt you to install plugins. You can choose to install the suggested plugins, or select the specific ones you need. Some commonly used plugins include Git, Maven, Docker, and Pipeline.\n",
    "\n",
    "3. **Create an Admin User:** You'll be prompted to create an admin user. Fill out the form with the username, password, full name, and email.\n",
    "\n",
    "4. **Configure the URL:** Jenkins will ask you to confirm the preferred URL for Jenkins. This should be the URL that users will use to connect to Jenkins.\n",
    "\n",
    "5. **Set up Build Tools:** If you're using build tools like Maven or Gradle, you need to configure them. Go to \"Manage Jenkins\" -> \"Global Tool Configuration\" and add the paths to the installations of your build tools.\n",
    "\n",
    "6. **Configure Security:** Go to \"Manage Jenkins\" -> \"Configure Global Security\" and set the security as per your requirements. You can choose to enable security, select the type of user authorization, and configure other security settings.\n",
    "\n",
    "7. **Set up Nodes/Slaves:** If you're planning to distribute your builds across multiple machines, you can add them in \"Manage Jenkins\" -> \"Manage Nodes and Clouds\".\n",
    "\n",
    "8. **Configure Email Notifications:** If you want Jenkins to send build notifications via email, you need to configure an SMTP server. This can be done in \"Manage Jenkins\" -> \"Configure System\" -> \"E-mail Notification\".\n",
    "\n",
    "Remember to save the changes after each configuration step. Now, Jenkins is set up and ready to create and run jobs."
   ]
  },
  {
   "cell_type": "markdown",
   "metadata": {},
   "source": [
    "## HTML report"
   ]
  },
  {
   "cell_type": "markdown",
   "metadata": {},
   "source": [
    "To publish HTML reports in Jenkins, you need to use the HTML Publisher plugin. Here's how you can do it:\n",
    "\n",
    "1. **Install HTML Publisher Plugin:** Go to \"Manage Jenkins\" > \"Manage Plugins\" > \"Available\", search for \"HTML Publisher Plugin\", and install it.\n",
    "\n",
    "2. **Configure Your Build:** In your build configuration, you need to add a step to generate the HTML report. This will depend on the tools you're using and the type of report you want to generate.\n",
    "\n",
    "3. **Configure Post-Build Action:** In the \"Post-build Actions\" section of your job configuration, click \"Add post-build action\" and select \"Publish HTML reports\". In the fields that appear:\n",
    "\n",
    "   - In \"HTML directory to archive\", enter the path to the directory where your HTML report is generated.\n",
    "   - In \"Index pages\", enter the names of the HTML files to be shown in the link on the project page. Multiple files can be separated by commas.\n",
    "   - In \"Report title\", enter the title that you want to be shown for the report.\n",
    "\n",
    "4. **Save and Run:** Click \"Save\" at the bottom of the page to save your changes. Now, when you run your build, Jenkins will archive your HTML report and make it available in the build results.\n",
    "\n",
    "Remember, the HTML Publisher plugin treats the specified directory as a document root, and the specified index pages should be relative to this directory. Also, for security reasons, some HTML elements like JavaScript and forms are disabled by default in Jenkins. You can change this in \"Manage Jenkins\" > \"Script Security\" > \"Sandbox\" if necessary, but be aware of the potential security implications."
   ]
  },
  {
   "cell_type": "markdown",
   "metadata": {},
   "source": [
    "# **Thank You!**"
   ]
  }
 ],
 "metadata": {
  "language_info": {
   "name": "python"
  }
 },
 "nbformat": 4,
 "nbformat_minor": 2
}
